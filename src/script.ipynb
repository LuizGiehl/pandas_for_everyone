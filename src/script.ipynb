{
 "cells": [
  {
   "cell_type": "code",
   "execution_count": 33,
   "metadata": {},
   "outputs": [
    {
     "data": {
      "text/html": [
       "<div>\n",
       "<style scoped>\n",
       "    .dataframe tbody tr th:only-of-type {\n",
       "        vertical-align: middle;\n",
       "    }\n",
       "\n",
       "    .dataframe tbody tr th {\n",
       "        vertical-align: top;\n",
       "    }\n",
       "\n",
       "    .dataframe thead th {\n",
       "        text-align: right;\n",
       "    }\n",
       "</style>\n",
       "<table border=\"1\" class=\"dataframe\">\n",
       "  <thead>\n",
       "    <tr style=\"text-align: right;\">\n",
       "      <th></th>\n",
       "      <th>A</th>\n",
       "      <th>B</th>\n",
       "      <th>C</th>\n",
       "      <th>D</th>\n",
       "    </tr>\n",
       "  </thead>\n",
       "  <tbody>\n",
       "    <tr>\n",
       "      <th>0</th>\n",
       "      <td>a0</td>\n",
       "      <td>b0</td>\n",
       "      <td>c0</td>\n",
       "      <td>d0</td>\n",
       "    </tr>\n",
       "    <tr>\n",
       "      <th>1</th>\n",
       "      <td>a1</td>\n",
       "      <td>b1</td>\n",
       "      <td>c1</td>\n",
       "      <td>d1</td>\n",
       "    </tr>\n",
       "    <tr>\n",
       "      <th>2</th>\n",
       "      <td>a2</td>\n",
       "      <td>b2</td>\n",
       "      <td>c2</td>\n",
       "      <td>d2</td>\n",
       "    </tr>\n",
       "    <tr>\n",
       "      <th>3</th>\n",
       "      <td>a3</td>\n",
       "      <td>b3</td>\n",
       "      <td>c3</td>\n",
       "      <td>d3</td>\n",
       "    </tr>\n",
       "  </tbody>\n",
       "</table>\n",
       "</div>"
      ],
      "text/plain": [
       "    A   B   C   D\n",
       "0  a0  b0  c0  d0\n",
       "1  a1  b1  c1  d1\n",
       "2  a2  b2  c2  d2\n",
       "3  a3  b3  c3  d3"
      ]
     },
     "execution_count": 33,
     "metadata": {},
     "output_type": "execute_result"
    }
   ],
   "source": [
    "import pandas as pd\n",
    "\n",
    "pd.read_csv('../data/concat_1.csv')"
   ]
  },
  {
   "cell_type": "code",
   "execution_count": 34,
   "metadata": {},
   "outputs": [
    {
     "name": "stdout",
     "output_type": "stream",
     "text": [
      "['Luiz', 89, 'José', 'Dog', False, 'new value']\n"
     ]
    }
   ],
   "source": [
    "myList = ['Luiz', 89, True, 'Dog', False]\n",
    "\n",
    "myList[2] = 'José'\n",
    "myList.append('new value')\n",
    "print(myList)"
   ]
  },
  {
   "cell_type": "code",
   "execution_count": 35,
   "metadata": {},
   "outputs": [
    {
     "name": "stdout",
     "output_type": "stream",
     "text": [
      "Carro\n"
     ]
    }
   ],
   "source": [
    "myTuple = ('Carro', 69, False, 'pessoa')\n",
    "\n",
    "print(myTuple[0])"
   ]
  },
  {
   "cell_type": "code",
   "execution_count": 36,
   "metadata": {},
   "outputs": [
    {
     "name": "stdout",
     "output_type": "stream",
     "text": [
      "Qin Shi Huang\n",
      "dict_keys(['fname', 'lname'])\n",
      "dict_values(['Qin', 'Shi Huang'])\n",
      "dict_items([('fname', 'Qin'), ('lname', 'Shi Huang')])\n"
     ]
    }
   ],
   "source": [
    "myDict = {'fname': 'Qin', 'lname': 'Shi Huang'}\n",
    "fn = myDict['fname']\n",
    "ln = myDict.get('lname')\n",
    "\n",
    "print(fn, ln)\n",
    "print(myDict.keys())\n",
    "print(myDict.values())\n",
    "print(myDict.items())"
   ]
  },
  {
   "cell_type": "code",
   "execution_count": 37,
   "metadata": {},
   "outputs": [
    {
     "name": "stdout",
     "output_type": "stream",
     "text": [
      "['dois', 'quatro']\n"
     ]
    }
   ],
   "source": [
    "list = ['um', 'dois', 'tres', 'quatro', 'cinco']\n",
    "\n",
    "print(list[1:4:2])"
   ]
  },
  {
   "cell_type": "code",
   "execution_count": 38,
   "metadata": {},
   "outputs": [
    {
     "name": "stdout",
     "output_type": "stream",
     "text": [
      "the current value is 1\n",
      "the cube of this value is 1\n",
      "end of loop, going back to the top\n",
      "\n",
      "the current value is 2\n",
      "the cube of this value is 8\n",
      "end of loop, going back to the top\n",
      "\n",
      "the current value is 3\n",
      "the cube of this value is 27\n",
      "end of loop, going back to the top\n",
      "\n",
      "the current value is 4\n",
      "the cube of this value is 64\n",
      "end of loop, going back to the top\n",
      "\n",
      "the current value is 5\n",
      "the cube of this value is 125\n",
      "end of loop, going back to the top\n",
      "\n",
      "the current value is 6\n",
      "the cube of this value is 216\n",
      "end of loop, going back to the top\n",
      "\n"
     ]
    }
   ],
   "source": [
    "l = [1,2,3,4,5,6]\n",
    "\n",
    "for i in l:\n",
    "    print('the current value is {}'.format(i))\n",
    "    print('the cube of this value is {}'.format(i**3))\n",
    "    print('end of loop, going back to the top\\n')"
   ]
  },
  {
   "cell_type": "code",
   "execution_count": 39,
   "metadata": {},
   "outputs": [
    {
     "name": "stdout",
     "output_type": "stream",
     "text": [
      "[15, 20, 25, 30, 35, 40, 45, 50]\n"
     ]
    }
   ],
   "source": [
    "l = [5,10,15,20,25,30,35,40]\n",
    "\n",
    "rc = [i + 10 for i in l]\n",
    "\n",
    "print(rc)"
   ]
  },
  {
   "cell_type": "code",
   "execution_count": 40,
   "metadata": {},
   "outputs": [
    {
     "name": "stdout",
     "output_type": "stream",
     "text": [
      "15.0\n"
     ]
    }
   ],
   "source": [
    "def myMean(x, y, z=20):\n",
    "    return (x + y + z) / 3\n",
    "\n",
    "print(myMean(10,15,))"
   ]
  },
  {
   "cell_type": "code",
   "execution_count": 41,
   "metadata": {},
   "outputs": [
    {
     "name": "stdout",
     "output_type": "stream",
     "text": [
      "5.0\n"
     ]
    }
   ],
   "source": [
    "def myMean(*args):\n",
    "\n",
    "    sum  = 0\n",
    "    for i in args:\n",
    "        sum += i\n",
    "    return sum / len(args)\n",
    "print(myMean(1,2,3,4,5,6,7,8,9))"
   ]
  },
  {
   "cell_type": "code",
   "execution_count": 1,
   "metadata": {},
   "outputs": [
    {
     "name": "stdout",
     "output_type": "stream",
     "text": [
      "helo\n",
      "Luiz\n",
      "Giehl\n"
     ]
    }
   ],
   "source": [
    "def greetings(welcomeWord, **kwargs):\n",
    "\n",
    "    print(welcomeWord)\n",
    "    print(kwargs.get('fname'))\n",
    "    print(kwargs.get('lname'))\n",
    "\n",
    "greetings('helo', fname='Luiz', lname='Giehl')"
   ]
  },
  {
   "cell_type": "code",
   "execution_count": 6,
   "metadata": {},
   "outputs": [
    {
     "name": "stdout",
     "output_type": "stream",
     "text": [
      "[0, 1, 2, 3, 4]\n",
      "<class 'range'>\n"
     ]
    }
   ],
   "source": [
    "r = range(5)\n",
    "\n",
    "print(list(r))\n",
    "print(type(r))"
   ]
  },
  {
   "cell_type": "code",
   "execution_count": 6,
   "metadata": {},
   "outputs": [
    {
     "name": "stdout",
     "output_type": "stream",
     "text": [
      "[(1, 'a'), (1, 'b'), (1, 'c'), (2, 'a'), (2, 'b'), (2, 'c'), (3, 'a'), (3, 'b'), (3, 'c')]\n"
     ]
    }
   ],
   "source": [
    "import itertools\n",
    "\n",
    "prod = itertools.product([1,2,3], ['a','b','c'])\n",
    "list = []\n",
    "for i in prod:\n",
    "    list.append(i)\n",
    "print(list)\n",
    "    "
   ]
  },
  {
   "cell_type": "code",
   "execution_count": 5,
   "metadata": {},
   "outputs": [
    {
     "name": "stdout",
     "output_type": "stream",
     "text": [
      "1\n",
      "2\n",
      "3\n",
      "4\n"
     ]
    }
   ],
   "source": [
    "l = [1,2,3,4]\n",
    "\n",
    "a, b, c, d = l\n",
    "\n",
    "print(a)\n",
    "print(b)\n",
    "print(c)\n",
    "print(d)"
   ]
  },
  {
   "cell_type": "code",
   "execution_count": 4,
   "metadata": {},
   "outputs": [
    {
     "name": "stdout",
     "output_type": "stream",
     "text": [
      "0    a0\n",
      "1    a1\n",
      "2    a2\n",
      "3    a3\n",
      "Name: A, dtype: object\n",
      "<class 'pandas.core.series.Series'>\n",
      "['a0' 'a1' 'a2' 'a3']\n",
      "<class 'numpy.ndarray'>\n"
     ]
    }
   ],
   "source": [
    "import pandas as pd\n",
    "\n",
    "df = pd.read_csv('../data/concat_1.csv')\n",
    "\n",
    "\n",
    "a = df['A']\n",
    "print(a)\n",
    "print(type(a))\n",
    "print(a.values)\n",
    "print(type(a.values))"
   ]
  },
  {
   "cell_type": "code",
   "execution_count": 3,
   "metadata": {},
   "outputs": [
    {
     "name": "stdout",
     "output_type": "stream",
     "text": [
      "Qin\n",
      "Shi Huang\n",
      "35\n",
      "36\n"
     ]
    }
   ],
   "source": [
    "class Person(object):\n",
    "    def __init__(self, fname, lname, age):\n",
    "        self.fname = fname\n",
    "        self.lname = lname\n",
    "        self.age = age\n",
    "\n",
    "    def celebrate_birthday(self):\n",
    "        self.age += 1\n",
    "\n",
    "qh = Person(fname='Qin', lname='Shi Huang', age=35)\n",
    "print(qh.fname)\n",
    "print(qh.lname)\n",
    "print(qh.age)\n",
    "\n",
    "qh.celebrate_birthday()\n",
    "print(qh.age)"
   ]
  },
  {
   "cell_type": "code",
   "execution_count": 2,
   "metadata": {},
   "outputs": [
    {
     "ename": "ImportError",
     "evalue": "cannot import name 'Iterator' from 'collections' (c:\\Users\\User\\anaconda3\\envs\\pfe\\Lib\\collections\\__init__.py)",
     "output_type": "error",
     "traceback": [
      "\u001b[1;31m---------------------------------------------------------------------------\u001b[0m",
      "\u001b[1;31mImportError\u001b[0m                               Traceback (most recent call last)",
      "Cell \u001b[1;32mIn[2], line 1\u001b[0m\n\u001b[1;32m----> 1\u001b[0m \u001b[38;5;28;01mfrom\u001b[39;00m \u001b[38;5;21;01modo\u001b[39;00m \u001b[38;5;28;01mimport\u001b[39;00m odo\n\u001b[0;32m      2\u001b[0m \u001b[38;5;28;01mimport\u001b[39;00m \u001b[38;5;21;01mpandas\u001b[39;00m \u001b[38;5;28;01mas\u001b[39;00m \u001b[38;5;21;01mpd\u001b[39;00m\n\u001b[0;32m      4\u001b[0m df \u001b[38;5;241m=\u001b[39m odo(\u001b[38;5;124m'\u001b[39m\u001b[38;5;124m../data/concat_1.csv\u001b[39m\u001b[38;5;124m'\u001b[39m, pd\u001b[38;5;241m.\u001b[39mDataFrame)\n",
      "File \u001b[1;32mc:\\Users\\User\\anaconda3\\envs\\pfe\\Lib\\site-packages\\odo\\__init__.py:12\u001b[0m\n\u001b[0;32m      9\u001b[0m halt_ordering()  \u001b[38;5;66;03m# Turn off multipledispatch ordering\u001b[39;00m\n\u001b[0;32m     11\u001b[0m \u001b[38;5;28;01mfrom\u001b[39;00m \u001b[38;5;21;01m.\u001b[39;00m\u001b[38;5;21;01mutils\u001b[39;00m \u001b[38;5;28;01mimport\u001b[39;00m ignoring\n\u001b[1;32m---> 12\u001b[0m \u001b[38;5;28;01mfrom\u001b[39;00m \u001b[38;5;21;01m.\u001b[39;00m\u001b[38;5;21;01mconvert\u001b[39;00m \u001b[38;5;28;01mimport\u001b[39;00m convert\n\u001b[0;32m     13\u001b[0m \u001b[38;5;28;01mfrom\u001b[39;00m \u001b[38;5;21;01m.\u001b[39;00m\u001b[38;5;21;01mappend\u001b[39;00m \u001b[38;5;28;01mimport\u001b[39;00m append\n\u001b[0;32m     14\u001b[0m \u001b[38;5;28;01mfrom\u001b[39;00m \u001b[38;5;21;01m.\u001b[39;00m\u001b[38;5;21;01mresource\u001b[39;00m \u001b[38;5;28;01mimport\u001b[39;00m resource\n",
      "File \u001b[1;32mc:\\Users\\User\\anaconda3\\envs\\pfe\\Lib\\site-packages\\odo\\convert.py:7\u001b[0m\n\u001b[0;32m      5\u001b[0m \u001b[38;5;28;01mfrom\u001b[39;00m \u001b[38;5;21;01mdatashape\u001b[39;00m\u001b[38;5;21;01m.\u001b[39;00m\u001b[38;5;21;01mpredicates\u001b[39;00m \u001b[38;5;28;01mimport\u001b[39;00m isscalar\n\u001b[0;32m      6\u001b[0m \u001b[38;5;28;01mfrom\u001b[39;00m \u001b[38;5;21;01mtoolz\u001b[39;00m \u001b[38;5;28;01mimport\u001b[39;00m concat, partition_all, compose\n\u001b[1;32m----> 7\u001b[0m \u001b[38;5;28;01mfrom\u001b[39;00m \u001b[38;5;21;01mcollections\u001b[39;00m \u001b[38;5;28;01mimport\u001b[39;00m Iterator, Iterable\n\u001b[0;32m      8\u001b[0m \u001b[38;5;28;01mimport\u001b[39;00m \u001b[38;5;21;01mdatashape\u001b[39;00m\n\u001b[0;32m      9\u001b[0m \u001b[38;5;28;01mfrom\u001b[39;00m \u001b[38;5;21;01mdatashape\u001b[39;00m \u001b[38;5;28;01mimport\u001b[39;00m discover\n",
      "\u001b[1;31mImportError\u001b[0m: cannot import name 'Iterator' from 'collections' (c:\\Users\\User\\anaconda3\\envs\\pfe\\Lib\\collections\\__init__.py)"
     ]
    }
   ],
   "source": [
    "from odo import odo\n",
    "import pandas as pd\n",
    "\n",
    "df = odo('../data/concat_1.csv', pd.DataFrame)\n",
    "print(df)"
   ]
  }
 ],
 "metadata": {
  "kernelspec": {
   "display_name": "pfe",
   "language": "python",
   "name": "python3"
  },
  "language_info": {
   "codemirror_mode": {
    "name": "ipython",
    "version": 3
   },
   "file_extension": ".py",
   "mimetype": "text/x-python",
   "name": "python",
   "nbconvert_exporter": "python",
   "pygments_lexer": "ipython3",
   "version": "3.12.3"
  }
 },
 "nbformat": 4,
 "nbformat_minor": 2
}
