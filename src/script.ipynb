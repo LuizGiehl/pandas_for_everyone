{
 "cells": [
  {
   "cell_type": "code",
   "execution_count": 3,
   "metadata": {},
   "outputs": [
    {
     "data": {
      "text/html": [
       "<div>\n",
       "<style scoped>\n",
       "    .dataframe tbody tr th:only-of-type {\n",
       "        vertical-align: middle;\n",
       "    }\n",
       "\n",
       "    .dataframe tbody tr th {\n",
       "        vertical-align: top;\n",
       "    }\n",
       "\n",
       "    .dataframe thead th {\n",
       "        text-align: right;\n",
       "    }\n",
       "</style>\n",
       "<table border=\"1\" class=\"dataframe\">\n",
       "  <thead>\n",
       "    <tr style=\"text-align: right;\">\n",
       "      <th></th>\n",
       "      <th>A</th>\n",
       "      <th>B</th>\n",
       "      <th>C</th>\n",
       "      <th>D</th>\n",
       "    </tr>\n",
       "  </thead>\n",
       "  <tbody>\n",
       "    <tr>\n",
       "      <th>0</th>\n",
       "      <td>a0</td>\n",
       "      <td>b0</td>\n",
       "      <td>c0</td>\n",
       "      <td>d0</td>\n",
       "    </tr>\n",
       "    <tr>\n",
       "      <th>1</th>\n",
       "      <td>a1</td>\n",
       "      <td>b1</td>\n",
       "      <td>c1</td>\n",
       "      <td>d1</td>\n",
       "    </tr>\n",
       "    <tr>\n",
       "      <th>2</th>\n",
       "      <td>a2</td>\n",
       "      <td>b2</td>\n",
       "      <td>c2</td>\n",
       "      <td>d2</td>\n",
       "    </tr>\n",
       "    <tr>\n",
       "      <th>3</th>\n",
       "      <td>a3</td>\n",
       "      <td>b3</td>\n",
       "      <td>c3</td>\n",
       "      <td>d3</td>\n",
       "    </tr>\n",
       "  </tbody>\n",
       "</table>\n",
       "</div>"
      ],
      "text/plain": [
       "    A   B   C   D\n",
       "0  a0  b0  c0  d0\n",
       "1  a1  b1  c1  d1\n",
       "2  a2  b2  c2  d2\n",
       "3  a3  b3  c3  d3"
      ]
     },
     "execution_count": 3,
     "metadata": {},
     "output_type": "execute_result"
    }
   ],
   "source": [
    "import pandas as pd\n",
    "\n",
    "pd.read_csv('../data/concat_1.csv')"
   ]
  },
  {
   "cell_type": "code",
   "execution_count": 13,
   "metadata": {},
   "outputs": [
    {
     "name": "stdout",
     "output_type": "stream",
     "text": [
      "['Luiz', 89, 'José', 'Dog', False, 'new value']\n"
     ]
    }
   ],
   "source": [
    "myList = ['Luiz', 89, True, 'Dog', False]\n",
    "\n",
    "myList[2] = 'José'\n",
    "myList.append('new value')\n",
    "print(myList)"
   ]
  },
  {
   "cell_type": "code",
   "execution_count": 38,
   "metadata": {},
   "outputs": [
    {
     "name": "stdout",
     "output_type": "stream",
     "text": [
      "Carro\n"
     ]
    }
   ],
   "source": [
    "myTuple = ('Carro', 69, False, 'pessoa')\n",
    "\n",
    "print(myTuple[0])"
   ]
  },
  {
   "cell_type": "code",
   "execution_count": 40,
   "metadata": {},
   "outputs": [
    {
     "name": "stdout",
     "output_type": "stream",
     "text": [
      "Qin Shi Huang\n",
      "dict_keys(['fname', 'lname'])\n",
      "dict_values(['Qin', 'Shi Huang'])\n",
      "dict_items([('fname', 'Qin'), ('lname', 'Shi Huang')])\n"
     ]
    }
   ],
   "source": [
    "myDict = {'fname': 'Qin', 'lname': 'Shi Huang'}\n",
    "fn = myDict['fname']\n",
    "ln = myDict.get('lname')\n",
    "\n",
    "print(fn, ln)\n",
    "print(myDict.keys())\n",
    "print(myDict.values())\n",
    "print(myDict.items())"
   ]
  },
  {
   "cell_type": "code",
   "execution_count": 51,
   "metadata": {},
   "outputs": [
    {
     "name": "stdout",
     "output_type": "stream",
     "text": [
      "['dois', 'quatro']\n"
     ]
    }
   ],
   "source": [
    "list = ['um', 'dois', 'tres', 'quatro', 'cinco']\n",
    "\n",
    "print(list[1:4:2])"
   ]
  },
  {
   "cell_type": "code",
   "execution_count": 59,
   "metadata": {},
   "outputs": [
    {
     "name": "stdout",
     "output_type": "stream",
     "text": [
      "the current value is 1\n",
      "the cube of this value is 1\n",
      "end of loop, going back to the top\n",
      "\n",
      "the current value is 2\n",
      "the cube of this value is 8\n",
      "end of loop, going back to the top\n",
      "\n",
      "the current value is 3\n",
      "the cube of this value is 27\n",
      "end of loop, going back to the top\n",
      "\n",
      "the current value is 4\n",
      "the cube of this value is 64\n",
      "end of loop, going back to the top\n",
      "\n",
      "the current value is 5\n",
      "the cube of this value is 125\n",
      "end of loop, going back to the top\n",
      "\n",
      "the current value is 6\n",
      "the cube of this value is 216\n",
      "end of loop, going back to the top\n",
      "\n"
     ]
    }
   ],
   "source": [
    "l = [1,2,3,4,5,6]\n",
    "\n",
    "for i in l:\n",
    "    print('the current value is {}'.format(i))\n",
    "    print('the cube of this value is {}'.format(i**3))\n",
    "    print('end of loop, going back to the top\\n')"
   ]
  },
  {
   "cell_type": "code",
   "execution_count": 4,
   "metadata": {},
   "outputs": [
    {
     "name": "stdout",
     "output_type": "stream",
     "text": [
      "[15, 20, 25, 30, 35, 40, 45, 50]\n"
     ]
    }
   ],
   "source": [
    "l = [5,10,15,20,25,30,35,40]\n",
    "\n",
    "rc = [i + 10 for i in l]\n",
    "\n",
    "print(rc)"
   ]
  },
  {
   "cell_type": "code",
   "execution_count": 20,
   "metadata": {},
   "outputs": [
    {
     "name": "stdout",
     "output_type": "stream",
     "text": [
      "15.0\n"
     ]
    }
   ],
   "source": [
    "def myMean(x, y, z=20):\n",
    "    return (x + y + z) / 3\n",
    "\n",
    "print(myMean(10,15,))"
   ]
  },
  {
   "cell_type": "code",
   "execution_count": 24,
   "metadata": {},
   "outputs": [
    {
     "name": "stdout",
     "output_type": "stream",
     "text": [
      "5.0\n"
     ]
    }
   ],
   "source": [
    "def myMean(*args):\n",
    "\n",
    "    sum  = 0\n",
    "    for i in args:\n",
    "        sum += i\n",
    "    return sum / len(args)\n",
    "print(myMean(1,2,3,4,5,6,7,8,9))"
   ]
  },
  {
   "cell_type": "code",
   "execution_count": 32,
   "metadata": {},
   "outputs": [
    {
     "name": "stdout",
     "output_type": "stream",
     "text": [
      "helo\n",
      "Luiz\n",
      "Giehl\n"
     ]
    }
   ],
   "source": [
    "def greetings(welcomeWord, **kwargs):\n",
    "\n",
    "    print(welcomeWord)\n",
    "    print(kwargs.get('fname'))\n",
    "    print(kwargs.get('lname'))\n",
    "\n",
    "greetings('helo', fname='Luiz', lname='Giehl')"
   ]
  }
 ],
 "metadata": {
  "kernelspec": {
   "display_name": "pfe",
   "language": "python",
   "name": "python3"
  },
  "language_info": {
   "codemirror_mode": {
    "name": "ipython",
    "version": 3
   },
   "file_extension": ".py",
   "mimetype": "text/x-python",
   "name": "python",
   "nbconvert_exporter": "python",
   "pygments_lexer": "ipython3",
   "version": "3.12.3"
  }
 },
 "nbformat": 4,
 "nbformat_minor": 2
}
